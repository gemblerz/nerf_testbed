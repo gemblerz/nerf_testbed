{
 "cells": [
  {
   "cell_type": "code",
   "execution_count": 36,
   "metadata": {},
   "outputs": [],
   "source": [
    "import os\n",
    "from pathlib import Path\n",
    "\n",
    "from scipy.spatial.transform import Rotation as R\n",
    "import numpy as np\n",
    "from PIL import Image\n",
    "from base64 import b64decode\n",
    "import json"
   ]
  },
  {
   "cell_type": "code",
   "execution_count": 48,
   "metadata": {},
   "outputs": [],
   "source": [
    "def decode_timestamp(stamp):\n",
    "    sec = 0\n",
    "    if \"sec\" in stamp:\n",
    "        sec = int(stamp[\"sec\"])\n",
    "    return sec + float(stamp[\"nsec\"]) / 1e9\n",
    "\n",
    "def create_image_from_record(d: dict) -> Image:\n",
    "    raw = b64decode(d[\"data\"])\n",
    "    pixel_format = d[\"pixelFormatType\"]\n",
    "    desired_format = \"RGB\" if pixel_format == \"RGB_INT8\" else \"\"\n",
    "    w = d[\"width\"]\n",
    "    h = d[\"height\"]\n",
    "    size = (w, h)\n",
    "    return Image.frombytes(desired_format, size, raw)\n",
    "\n",
    "def create_images_from_bag(bag_path: Path, index=0):\n",
    "    count = 0\n",
    "    with open(bag_path, \"r\") as f:\n",
    "        for l in f.readlines():\n",
    "            if count < index:\n",
    "                count += 1\n",
    "                continue\n",
    "            d = json.loads(l)\n",
    "            img = create_image_from_record(d)\n",
    "\n",
    "            t = decode_timestamp(d[\"header\"][\"stamp\"])\n",
    "            sequence = 0\n",
    "            for i in d[\"header\"][\"data\"]:\n",
    "                if i[\"key\"] == \"seq\":\n",
    "                    sequence = int(i[\"value\"][0])\n",
    "                    break\n",
    "            p = Path(f'{bag_path.parent}/{bag_path.stem}')\n",
    "            p.mkdir(parents=True, exist_ok=True)\n",
    "            output_path = p / f'frame_{bag_path.stem}_{t}.jpg'\n",
    "            img.save(output_path)\n",
    "            break\n",
    "\n",
    "def generate_matrix_for_nerfstudio(P: dict, O: dict) -> np.ndarray:\n",
    "    np.set_printoptions(suppress=True)\n",
    "    # nerfstudio format\n",
    "    # [+X0 +Y0 +Z0 X]\n",
    "    # [+X1 +Y1 +Z1 Y]\n",
    "    # [+X2 +Y2 +Z2 Z]\n",
    "    # [0.0 0.0 0.0 1]\n",
    "    pos = np.array([[P[\"x\"], P[\"y\"], P[\"z\"]]], dtype=float).T\n",
    "    # pos = pos / 10\n",
    "    rot = R.from_quat(\n",
    "        [O[\"x\"], O[\"y\"], O[\"z\"], O[\"w\"]]\n",
    "        # [0., 0., 0.99999968293183461, 0.00079632671073326324]\n",
    "        )\n",
    "    print(rot.as_euler('zyx', degrees=True))\n",
    "    # print(pos)\n",
    "    # print(rot)\n",
    "    pos_rot = np.hstack((rot.as_matrix(), pos))\n",
    "    # print(pos_rot)\n",
    "    return np.vstack((pos_rot, np.array([0., 0., 0., 1.], dtype=float)))\n",
    "\n",
    "def create_transform_matrix(camera_name, database=\"output/info.bag\"):\n",
    "    with open(database, \"r\") as f:\n",
    "        d = json.loads(f.readline())\n",
    "    for e in d[\"pose\"]:\n",
    "        if e[\"name\"] != camera_name:\n",
    "            continue\n",
    "        pos = {\n",
    "            \"x\": 0.,\n",
    "            \"y\": 0.,\n",
    "            \"z\": 0.,\n",
    "        }\n",
    "        pos.update(e[\"position\"])\n",
    "        orientation = {\n",
    "            \"x\": 0.,\n",
    "            \"y\": 0.,\n",
    "            \"z\": 0.,\n",
    "            \"w\": 0.,\n",
    "        }\n",
    "        orientation.update(e[\"orientation\"])\n",
    "        # orientation[\"w\"] -= 1.\n",
    "        # if orientation[\"w\"] == 0.:\n",
    "        #     orientation[\"w\"] = 0.00079632671073326324\n",
    "        # print(e)\n",
    "        matrix = generate_matrix_for_nerfstudio(pos, orientation)\n",
    "        print(json.dumps(matrix.tolist(), indent=4))\n",
    "        break"
   ]
  },
  {
   "cell_type": "code",
   "execution_count": 49,
   "metadata": {},
   "outputs": [],
   "source": [
    "create_images_from_bag(Path(\"output/camera1.bag\"))"
   ]
  },
  {
   "cell_type": "code",
   "execution_count": 47,
   "metadata": {},
   "outputs": [
    {
     "name": "stdout",
     "output_type": "stream",
     "text": [
      "[179.90874767   0.          -0.        ]\n",
      "[\n",
      "    [\n",
      "        -0.9999987317275396,\n",
      "        -0.001592652916486828,\n",
      "        0.0,\n",
      "        3.0\n",
      "    ],\n",
      "    [\n",
      "        0.001592652916486828,\n",
      "        -0.9999987317275396,\n",
      "        0.0,\n",
      "        0.0\n",
      "    ],\n",
      "    [\n",
      "        0.0,\n",
      "        0.0,\n",
      "        1.0,\n",
      "        0.55\n",
      "    ],\n",
      "    [\n",
      "        0.0,\n",
      "        0.0,\n",
      "        0.0,\n",
      "        1.0\n",
      "    ]\n",
      "]\n"
     ]
    }
   ],
   "source": [
    "create_transform_matrix(\"camera1\")"
   ]
  },
  {
   "cell_type": "code",
   "execution_count": 33,
   "metadata": {},
   "outputs": [],
   "source": [
    "a = np.array([[1, 2, 3, 4], [5, 6, 7, 8], [9, 10, 11, 12]])"
   ]
  },
  {
   "cell_type": "code",
   "execution_count": 31,
   "metadata": {},
   "outputs": [
    {
     "data": {
      "text/plain": [
       "array([[2, 3],\n",
       "       [5, 6],\n",
       "       [8, 9]])"
      ]
     },
     "execution_count": 31,
     "metadata": {},
     "output_type": "execute_result"
    }
   ],
   "source": [
    "a[0:3, 1:3]"
   ]
  },
  {
   "cell_type": "code",
   "execution_count": 34,
   "metadata": {},
   "outputs": [
    {
     "data": {
      "text/plain": [
       "array([ 4,  8, 12])"
      ]
     },
     "execution_count": 34,
     "metadata": {},
     "output_type": "execute_result"
    }
   ],
   "source": [
    "a[:3, 3]"
   ]
  }
 ],
 "metadata": {
  "kernelspec": {
   "display_name": "Python 3",
   "language": "python",
   "name": "python3"
  },
  "language_info": {
   "codemirror_mode": {
    "name": "ipython",
    "version": 3
   },
   "file_extension": ".py",
   "mimetype": "text/x-python",
   "name": "python",
   "nbconvert_exporter": "python",
   "pygments_lexer": "ipython3",
   "version": "3.12.2"
  }
 },
 "nbformat": 4,
 "nbformat_minor": 2
}
